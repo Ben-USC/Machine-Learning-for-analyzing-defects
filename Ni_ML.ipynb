{
 "cells": [
  {
   "cell_type": "code",
   "execution_count": 7,
   "metadata": {
    "collapsed": false
   },
   "outputs": [
    {
     "name": "stdout",
     "output_type": "stream",
     "text": [
      "The autoreload extension is already loaded. To reload it, use:\n",
      "  %reload_ext autoreload\n"
     ]
    }
   ],
   "source": [
    "import numpy as np\n",
    "from sklearn import svm\n",
    "from Ni_ML import *\n",
    "%load_ext autoreload\n",
    "%autoreload 2"
   ]
  },
  {
   "cell_type": "markdown",
   "metadata": {},
   "source": [
    "## list all files present in the currect directory\n",
    "**1 atom_property.c:** C code to read input atomic configuration and create neighor list for atoms <br>\n",
    "**2 atom_property.h:** header file for atom_property.c <br>\n",
    "**3 createfeature.c:** C code to feature feature vector for atoms using their atomic coordinates <br>\n",
    "**4 createfeature.h:** header file for createfeature.c <br>\n",
    "**5 Makefile:** create executabe c_feature so generate feature vector from atomic coordinates <br>\n",
    "**6 Ni_train.xyz:** Atomic coordinate of FCC Nickel indentation simulation in xyz format (use it for training) <br>\n",
    "**7 Ni_test1.xyz:** Atomic coordinate of FCC Nickel indentation simulation in xyz format (use it for test)<br>\n",
    "**8 Ni_test2.xyz:** Atomic coordinate of FCC Nickel indentation simulation in xyz format (use it for test)<br>\n",
    "**9 feaure:** containes converted atomic data into 18 dimension feature vector format for each atoms. It contains following files. a) train_XX.py: 18 dimension feature vector represntation for each atom, b) train_YY.npy : labels for each atom, c) train_pos.npy actual atomic coordinates for each atoms. It also contains files test_XX.npy,test_YY.npy and test_pos.npy (use it for testing)"
   ]
  },
  {
   "cell_type": "code",
   "execution_count": 9,
   "metadata": {
    "collapsed": false
   },
   "outputs": [
    {
     "name": "stdout",
     "output_type": "stream",
     "text": [
      "Makefile        Ni_ML.py        Ni_test2.xyz    \u001b[1m\u001b[36m__pycache__\u001b[m\u001b[m     atom_property.h \u001b[1m\u001b[31mc_feature\u001b[m\u001b[m       createfeature.h \u001b[1m\u001b[36mfeature\u001b[m\u001b[m\r\n",
      "Ni_ML.ipynb     Ni_test1.xyz    Ni_train.xyz    atom_property.c atom_property.o createfeature.c createfeature.o readinput.py\r\n"
     ]
    }
   ],
   "source": [
    "###Type !ls to list all the files\n",
    "!ls"
   ]
  },
  {
   "cell_type": "code",
   "execution_count": 10,
   "metadata": {
    "collapsed": false
   },
   "outputs": [
    {
     "name": "stdout",
     "output_type": "stream",
     "text": [
      "rm -f *.o c_feature\n",
      "gcc  -c -Wall -std=c99 createfeature.c\n",
      "gcc  -c -Wall -std=c99 atom_property.c\n",
      "gcc -o c_feature createfeature.o atom_property.o -lm\n"
     ]
    }
   ],
   "source": [
    "# create executable to generate featue vector using createfeature.c \n",
    "# it create an executable called c_feature\n",
    "!rm -f feature/*\n",
    "!make clean\n",
    "!make"
   ]
  },
  {
   "cell_type": "markdown",
   "metadata": {},
   "source": [
    "## To create feature vector from atomic data run this command\n",
    "**./c_feature input_file output_file ** <br>\n",
    "where, <br>\n",
    "input_file: name of the input file containing atomic coordinates (EX: Ni_train.xyz) <br>\n",
    "output_file: name of the output file containing feature vector (EX: feature/train.txt) <br>"
   ]
  },
  {
   "cell_type": "code",
   "execution_count": 11,
   "metadata": {
    "collapsed": false
   },
   "outputs": [
    {
     "name": "stdout",
     "output_type": "stream",
     "text": [
      "Total number of atoms     114376 \n",
      "Box size   101.481003   130.103226   101.481003 \n",
      "File created inside feature folder:\n",
      "train.txt\n"
     ]
    }
   ],
   "source": [
    "#create training data using atomic coordinates\n",
    "!./c_feature \"Ni_train.xyz\" \"feature/train.txt\"\n",
    "print(\"File created inside feature folder:\" )\n",
    "!ls feature"
   ]
  },
  {
   "cell_type": "markdown",
   "metadata": {},
   "source": [
    "## Create a SVM linear classifer using the training data\n",
    "**Step 1** : Extract feature vector, lables and cooridnates from train.txt. <br>\n",
    "             Creates three files: <br>\n",
    "             a) train_XX.npy: 18 dimension feature vector represntation for each atom. <br>\n",
    "             b) train_YY.npy : labels for each atom. <br>\n",
    "             c) train_pos.npy actual atomic coordinates for each atoms.<br>\n",
    "**Step 2 ** : Build a classifer using train_XX.npy and train_YY.npy"
   ]
  },
  {
   "cell_type": "code",
   "execution_count": 12,
   "metadata": {
    "collapsed": false
   },
   "outputs": [
    {
     "name": "stdout",
     "output_type": "stream",
     "text": [
      "Natoms  and number of features per atom 114376 17\n",
      "Number of training examples:  18758\n",
      "training error:  3.219959483953516\n",
      "training accuracy:  96.78004051604648\n"
     ]
    }
   ],
   "source": [
    "inputfile='feature/train.txt'\n",
    "outfile='feature/train'\n",
    "#extract feature vector, lables and cooridnates from the input file.\n",
    "create_input_data(inputfile,outfile)\n",
    "#build classifier\n",
    "Ni_model = build_classifier('feature/train_XX.npy','feature/train_YY.npy')\n",
    "Ni_model.train()"
   ]
  },
  {
   "cell_type": "markdown",
   "metadata": {},
   "source": [
    "## check the accuracy of the model on a test data set\n",
    "**Step 1: ** Convert atomic coordinates for test data Ni_test1.xyz into feature vector called test_1.txt <br>\n",
    "**Step 2: ** Extract feature vector, lables and cooridnates from test_1.txt. <br>\n",
    "It creates three files inside feature folder : test_1_XX.npy, test_1_YY.npy, test_1_pos.npy <br> \n",
    "**Step 3: ** Precit lables of the test data using the build classifer. "
   ]
  },
  {
   "cell_type": "code",
   "execution_count": 13,
   "metadata": {
    "collapsed": false
   },
   "outputs": [
    {
     "name": "stdout",
     "output_type": "stream",
     "text": [
      "Total number of atoms     114376 \n",
      "Box size   101.521004   130.103226   101.521004 \n",
      "Natoms  and number of features per atom 114376 17\n",
      "Test error:  0.9057844303000606\n",
      "Test accuracy:  99.09421556969994\n"
     ]
    }
   ],
   "source": [
    "#Step 1: Convert atomic coordinates for test data Ni_test1.xyz into feature vector called test_1.txt \n",
    "!./c_feature \"Ni_test1.xyz\" \"feature/test_1.txt\"\n",
    "#Step 2: extract feature vector, lables and cooridnates from the input file.\n",
    "inputfile='feature/test_1.txt'\n",
    "outfile='feature/test_1'\n",
    "create_input_data(inputfile,outfile)\n",
    "test_X = np.load('feature/test_1_XX.npy')\n",
    "test_Y = np.load('feature/test_1_YY.npy')\n",
    "test_pos = np.load('feature/test_1_pos.npy')\n",
    "test_Y = test_Y.ravel()\n",
    "#Step 3: Precit lables of the test data using the build classier\n",
    "test_1_predict = Ni_model.predict(test_X)\n",
    "test_1_accuracy = Ni_model.accuracy(test_Y,test_1_predict)\n",
    "print(\"Test error: \",np.mean(test_1_accuracy)*100.0)\n",
    "print(\"Test accuracy: \",100.00-np.mean(test_1_accuracy)*100.0)"
   ]
  },
  {
   "cell_type": "markdown",
   "metadata": {},
   "source": [
    "### Visulize the predicted lables  on test data using ovito\n",
    "writexyz creates a xyz file containing the true and predicted labels in a file called output.xyz <br>"
   ]
  },
  {
   "cell_type": "code",
   "execution_count": 14,
   "metadata": {
    "collapsed": false
   },
   "outputs": [
    {
     "name": "stdout",
     "output_type": "stream",
     "text": [
      "Makefile        Ni_test1.xyz    \u001b[1m\u001b[36m__pycache__\u001b[m\u001b[m     atom_property.o createfeature.h output.xyz\r\n",
      "Ni_ML.ipynb     Ni_test2.xyz    atom_property.c \u001b[1m\u001b[31mc_feature\u001b[m\u001b[m       createfeature.o readinput.py\r\n",
      "Ni_ML.py        Ni_train.xyz    atom_property.h createfeature.c \u001b[1m\u001b[36mfeature\u001b[m\u001b[m\r\n"
     ]
    }
   ],
   "source": [
    "#writexyz creates a xyz file containing the true \n",
    "#and predicted labels in a file called output.xyz\n",
    "writexyz(len(test_Y),test_pos,test_1_predict,test_Y)\n",
    "!ls"
   ]
  },
  {
   "cell_type": "markdown",
   "metadata": {},
   "source": [
    "### check the accuracy of the model on a another test data set\n",
    "**Step 1: ** Convert atomic coordinates for test data Ni_test1.xyz into feature vector called test_2.txt <br>\n",
    "**Step 2: ** Extract feature vector, lables and cooridnates from test_2.txt. <br>\n",
    "It creates three files inside feature folder : test_2_XX.npy, test_2_YY.npy, test_2_pos.npy <br> \n",
    "**Step 3: ** Precit lables of the test data using the build classifer. "
   ]
  },
  {
   "cell_type": "code",
   "execution_count": 8,
   "metadata": {
    "collapsed": false
   },
   "outputs": [
    {
     "name": "stdout",
     "output_type": "stream",
     "text": [
      "Total number of atoms     114376 \n",
      "Box size   101.481003   130.103226   101.481003 \n",
      "Natoms  and number of features per atom 114376 17\n",
      "test 2 error:  0.9241449255088519\n",
      "test 2 accuracy:  99.07585507449114\n"
     ]
    }
   ],
   "source": [
    "#Step 1: Convert atomic coordinates for test data Ni_test1.xyz into feature vector called test_1.txt \n",
    "!./c_feature \"Ni_test2.xyz\" \"feature/test_2.txt\"\n",
    "#Step 2: extract feature vector, lables and cooridnates from the input file.\n",
    "inputfile='feature/test_2.txt'\n",
    "outfile='feature/test_2'\n",
    "create_input_data(inputfile,outfile)\n",
    "test_X = np.load('feature/test_2_XX.npy')\n",
    "test_Y = np.load('feature/test_2_YY.npy')\n",
    "test_pos = np.load('feature/test_2_pos.npy')\n",
    "test_Y = test_Y.ravel()\n",
    "#Step 3: Precit lables of the test data using the build classier\n",
    "test_2_predict = Ni_model.predict(test_X)\n",
    "test_2_accuracy = Ni_model.accuracy(test_Y,test_1_predict)\n",
    "print(\"test 2 error: \",np.mean(test_1_accuracy)*100.0)\n",
    "print(\"test 2 accuracy: \",100.00-np.mean(test_1_accuracy)*100.0)"
   ]
  },
  {
   "cell_type": "code",
   "execution_count": null,
   "metadata": {
    "collapsed": true
   },
   "outputs": [],
   "source": []
  }
 ],
 "metadata": {
  "kernelspec": {
   "display_name": "Python 3",
   "language": "python",
   "name": "python3"
  },
  "language_info": {
   "codemirror_mode": {
    "name": "ipython",
    "version": 3
   },
   "file_extension": ".py",
   "mimetype": "text/x-python",
   "name": "python",
   "nbconvert_exporter": "python",
   "pygments_lexer": "ipython3",
   "version": "3.6.6rc1"
  }
 },
 "nbformat": 4,
 "nbformat_minor": 0
}
